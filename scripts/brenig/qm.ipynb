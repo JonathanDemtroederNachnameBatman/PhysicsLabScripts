{
 "cells": [
  {
   "cell_type": "markdown",
   "metadata": {},
   "source": [
    "# Stationäre Schrödinger Gleichung"
   ]
  },
  {
   "cell_type": "code",
   "execution_count": null,
   "metadata": {},
   "outputs": [],
   "source": [
    "import matplotlib.pyplot as plt\n",
    "import matplotlib.animation as animation\n",
    "import numpy as np\n",
    "import pandas as pd\n",
    "from scipy import optimize\n",
    "from scipy import signal\n",
    "from scipy import stats\n",
    "from fractions import Fraction\n",
    "from lib import helpers as hp"
   ]
  },
  {
   "cell_type": "markdown",
   "metadata": {},
   "source": [
    "Die stationäre Schrödingergleichung lautet\n",
    "$$\\bigg[-\\frac{\\hbar}{2m}\\frac{\\partial^2}{\\partial x^2}+V(x)\\bigg]\\psi(x)=E\\psi(x)$$\n",
    "Für das Potential wird \n",
    "$$V(x)=1000x^2$$\n",
    "gewählt. Die Gleichung wird mit $\\frac{m}{\\hbar}$ multipliziert. Dieser Term wird dann zunächst auf 1 gesetzt, so dass das Ergebniss in Einheiten dieses Terms angegeben werden kann.\n",
    "$$-\\frac{1}{2}\\frac{\\partial^2}{\\partial x^2}\\psi(x)+V(x)\\psi(x)=E\\psi(x)$$\n",
    "Der Bereich wird nun auf $-1$ bis $1$ begrenzt.\n",
    "Für die diskrete zweite Ableitung gilt\n",
    "$$\\psi''_n=\\frac{\\psi_{n-1}-2\\psi_n+\\psi_{n+1}}{\\Delta x}$$\n",
    "Wobei $\\Delta x$ der Abstand der Stützstellen ist. Daraus folgt\n",
    "$$-\\frac{\\psi_{n-1}-2\\psi_n+\\psi_{n+1}}{2\\Delta x}+V_n\\cdot \\psi_n=E\\cdot \\psi_n$$\n"
   ]
  },
  {
   "cell_type": "markdown",
   "metadata": {},
   "source": [
    "Um daraus die Energien zu berechnen kann diese Gleichung als Gleichungssystem geschrieben werden. Die Energien sind dann die Eigenwerte der trigonal Matrix.\n",
    "$$\n",
    "\\begin{bmatrix}\n",
    "    \\frac{1}{\\Delta x^2} + V_0 & -\\frac{1}{2\\Delta x^2} & 0 & \\dots \\\\\n",
    "    -\\frac{1}{2\\Delta x^2} & \\frac{1}{\\Delta x^2} + V_1 & -\\frac{1}{2\\Delta x^2} & \\dots \\\\\n",
    "    0 & \\dots & \\dots & \\dots \n",
    "\\end{bmatrix}\n",
    "$$"
   ]
  },
  {
   "cell_type": "code",
   "execution_count": null,
   "metadata": {},
   "outputs": [],
   "source": [
    "\n"
   ]
  }
 ],
 "metadata": {
  "language_info": {
   "name": "python"
  }
 },
 "nbformat": 4,
 "nbformat_minor": 2
}
